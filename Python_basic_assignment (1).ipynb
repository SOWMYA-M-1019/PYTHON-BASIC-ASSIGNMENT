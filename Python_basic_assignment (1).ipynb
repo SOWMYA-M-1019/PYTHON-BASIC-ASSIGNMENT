{
  "nbformat": 4,
  "nbformat_minor": 0,
  "metadata": {
    "colab": {
      "provenance": []
    },
    "kernelspec": {
      "name": "python3",
      "display_name": "Python 3"
    },
    "language_info": {
      "name": "python"
    }
  },
  "cells": [
    {
      "cell_type": "markdown",
      "source": [
        "1. What is python, and why is it popular?\n",
        "\n",
        "ans: * Python is a programming language that is easy to understand and write,\n",
        "     making it a popular choice among developers and programmers.\n",
        "     * it is compatible with various programming paradigms, such as procedural, object-oriented, and functional programming.\n",
        "     * Python has a large and active community of developers, an extensive standard library, and third party packages for various domains.\n",
        "\n",
        "2. What is an interpreter in python?\n",
        "\n",
        "ans: An interpreter ia a program that reads and executes python code line by line , tranlating it into machine- readable instructions.\n",
        "\n",
        "3. what are pre- defined keywords in python?\n",
        "\n",
        "ans: * Keywords are reserved words in python that have special meanings and cannot be used as identifiers (variable names, function names, etc).\n",
        "* examples of keywords include if, else, while, for, def, class, import, true, false etc.\n",
        "* Keywords are case-sensitive and cannot be redefined or overridden within a python program.\n",
        "\n",
        "4. Can keywords be used as variable names?\n",
        "\n",
        "ans:No, keywords cannot be used as variable name.\n",
        "\n",
        "5. What is mutability in python?\n",
        "\n",
        "ans: Mutability in python can be changeable or madifiable, such as list And dictionaries can be modified after creation.\n",
        "* Mutability  affects how objects are stored and manipulated in memory, impactingperformance, memory usage and concurrency in python programs.\n",
        "\n",
        "6. Why are list mutable, but tuple are immutable?\n",
        "\n",
        "ans: In python, objects can be either changeable or unchangeable.\n",
        "* Mutable objects such as list and dictionaries, can be modified after creation, while immutable objects, such as tuples and strings cannot.\n",
        "\n",
        "7. What is the difference between \"==\" and \"is\" operators in python?\n",
        "\n",
        "ans: in Python, \"==\" checks for value equality (whether two objects have the same content). while \"is\" checks for if identity(whether two variables point to the same object in memory).\n",
        "\n",
        "\n",
        "8. What are logical operators in python ?\n",
        "\n",
        "ans: logical operators in python are used to evaluate conditions and expressions.They are also known as Boolean operators.\n",
        "\n",
        "9. What is type casting in python?\n",
        "\n",
        "ans: Type casting, also referred to as type conversion, is the process of changing one data type to another in python.\n",
        "\n",
        "10. What is difference between implict and explicit type casting?\n",
        "\n",
        "ans: Implict typecasting python understand the datatype where as\n",
        "explicit type casting convert data type using inbuilt functions\n",
        "\n",
        "\n",
        "11. What is purpose of conditional statements in python?\n",
        "\n",
        "ans: Conditional statements in python, like if , elif and else, allow your code to make decisions and excecute different blocks of code based on whether a condition is true or flase.\n",
        "\n",
        "12. How does the elif statement work?\n",
        "\n",
        "ans: The \"elif\" Keyword in python, stands for \"else if\". It can be used in condtional statement to check for multiple conditions. For example, if the first condition is flase, t moves on to the next \"elif\" statement to check if that condition is true.\n",
        "\n",
        "\n",
        "13. What is the differnece between for and while loops?\n",
        "\n",
        "ans: In Python, loops are employed to repeat a sequence of actions or code until a specific condition is fulfilled.\n",
        "\n",
        "Python offers two primary types of loops: for loops and while loops.\n",
        "\n",
        "“for” loops are used for iterating over a sequence of elements, while “while” loops are used for executing code until a specified condition becomes False\n",
        "\n",
        "14. Describea scenario where a while loop is more suitable than a for loop.\n",
        "\n",
        " ans: A \"while loop\" is more appropriate when you need to iterate until a condition is met without knowing the number of iterations in advance. This makes it suitable for situations like processing user guesses for a secret number.\n",
        "\n",
        "\n"
      ],
      "metadata": {
        "id": "3vWDT7MNOpdz"
      }
    },
    {
      "cell_type": "code",
      "source": [
        "#1. Write a python program to print \"Hello, World!\"\n",
        "print(\"Hello, World!\")\n"
      ],
      "metadata": {
        "id": "YDMLj94MOo8w",
        "colab": {
          "base_uri": "https://localhost:8080/"
        },
        "outputId": "b691e355-d7dd-4d43-f1ab-d0035a625654"
      },
      "execution_count": null,
      "outputs": [
        {
          "output_type": "stream",
          "name": "stdout",
          "text": [
            "Hello, World!\n"
          ]
        }
      ]
    },
    {
      "cell_type": "code",
      "source": [
        "#2.Write a Python program that displays your name and age.\n",
        "name=input(\"please enter your name:\")\n",
        "age=input(\"please enter your age:\")\n",
        "print(f\"your name is {name} and your age is {age}\")\n"
      ],
      "metadata": {
        "id": "wvOZjGS1Oo6h",
        "colab": {
          "base_uri": "https://localhost:8080/"
        },
        "outputId": "31c1e6e4-1af4-4a68-94f5-85bf2907d0cc"
      },
      "execution_count": null,
      "outputs": [
        {
          "output_type": "stream",
          "name": "stdout",
          "text": [
            "please enter your name:sowmya\n",
            "please enter your age:24\n",
            "your name is sowmya and your age is 24\n"
          ]
        }
      ]
    },
    {
      "cell_type": "code",
      "source": [
        "#3.Write code to print all the pre-defined keywords in Python using the keyword library\n",
        "import keyword\n",
        "print(keyword.kwlist)\n"
      ],
      "metadata": {
        "id": "cv1qJ8cLOo3M",
        "colab": {
          "base_uri": "https://localhost:8080/"
        },
        "outputId": "97e51f28-ea02-408c-f06f-0137815c6770"
      },
      "execution_count": null,
      "outputs": [
        {
          "output_type": "stream",
          "name": "stdout",
          "text": [
            "['False', 'None', 'True', 'and', 'as', 'assert', 'async', 'await', 'break', 'class', 'continue', 'def', 'del', 'elif', 'else', 'except', 'finally', 'for', 'from', 'global', 'if', 'import', 'in', 'is', 'lambda', 'nonlocal', 'not', 'or', 'pass', 'raise', 'return', 'try', 'while', 'with', 'yield']\n"
          ]
        }
      ]
    },
    {
      "cell_type": "code",
      "source": [
        " #6. Write a function to demonstrate the behavior of mutable and immutable arguments\n",
        "ans:\n",
        "\n",
        "#list(mutable)\n",
        "\n",
        "def list_fun(list_mutable): #\"def\" is the keyword, \"list_fun\" is function name and \"list_mutable\" is argument\n",
        "\n",
        "  print(list_mutable)  #it print \"[1, 2, 3]\"\n",
        "  list_mutable.append(4) # here we add element in the list\n",
        "  list_mutable.append(5) # here we add element in the list\n",
        "  print(list_mutable)  #it print \"[1, 2, 3, 4, 5]\" , changes made in original list\n",
        "\n",
        "list_mutable=[1,2,3]   #given list\n",
        "list_fun(list_mutable)  # function call\n",
        "print(list_mutable)    #print orginal list\n",
        "print(type(list_mutable))\n",
        "\n",
        "# tuple (immutable)\n",
        "\n",
        "def tuple_fun(tuple_immutable): #\"def\" is the keyword, \"tuple_fun\" is function name and \"tuple_immutable\" is argument\n",
        "\n",
        "  print(tuple_immutable)  #it print \"(1,2,3)\"\n",
        "  tuple_immutable=(4,5) # new tuple inside the function\n",
        "  print(tuple_immutable)  #it print \"(4,5)\" , changes made in new tuple,original tuple remain unchanged.\n",
        "\n",
        "tuple_immutable=(1,2,3)   #given tuple\n",
        "tuple_fun(tuple_immutable)  # function call\n",
        "print(tuple_immutable)   #print original tuple\n",
        "print(type(tuple_immutable))"
      ],
      "metadata": {
        "id": "x8wBxBa8OooV",
        "colab": {
          "base_uri": "https://localhost:8080/"
        },
        "outputId": "891508f8-fcfe-42df-a26c-d77c10e6e1c0"
      },
      "execution_count": null,
      "outputs": [
        {
          "output_type": "stream",
          "name": "stdout",
          "text": [
            "[1, 2, 3]\n",
            "[1, 2, 3, 4, 5]\n",
            "[1, 2, 3, 4, 5]\n",
            "<class 'list'>\n",
            "(1, 2, 3)\n",
            "(4, 5)\n",
            "(1, 2, 3)\n",
            "<class 'tuple'>\n"
          ]
        }
      ]
    },
    {
      "cell_type": "code",
      "source": [
        "#8. Write a program to demonstrate the use of logical operators.\n",
        "a = 5\n",
        "b = 6\n",
        "print((a<2) and (b>=6))\n",
        "print((a<2) or (b<6))\n",
        "print(not(a>10))\n"
      ],
      "metadata": {
        "id": "bc0s59uCOomU",
        "colab": {
          "base_uri": "https://localhost:8080/"
        },
        "outputId": "e24b4597-a59a-4cd6-f04f-7a574a10b73f"
      },
      "execution_count": null,
      "outputs": [
        {
          "output_type": "stream",
          "name": "stdout",
          "text": [
            "False\n",
            "False\n",
            "True\n"
          ]
        }
      ]
    },
    {
      "cell_type": "code",
      "source": [
        "#9.Write a python to convert user input from string to integer, float, and boolean types.\n",
        "\n",
        "str = \"1500\"\n",
        "print(\"str data type:\", type(str))\n",
        "str_int = int(str)\n",
        "print(\"str_int data type:\", type(str_int))\n",
        "str_float = float(str)\n",
        "print(\"str_float data type:\", type(str_float))\n",
        "str_bool = bool(str)\n",
        "print(\"str_bool data type:\", type(str_bool))\n"
      ],
      "metadata": {
        "id": "L05REeSTOoWu",
        "colab": {
          "base_uri": "https://localhost:8080/"
        },
        "outputId": "68ba4bf0-cb2a-4a61-dafa-19932ae5e208"
      },
      "execution_count": null,
      "outputs": [
        {
          "output_type": "stream",
          "name": "stdout",
          "text": [
            "str data type: <class 'str'>\n",
            "str_int data type: <class 'int'>\n",
            "str_float data type: <class 'float'>\n",
            "str_bool data type: <class 'bool'>\n"
          ]
        }
      ]
    },
    {
      "cell_type": "code",
      "source": [
        "#10.Write code to demonstrate type casting with list elements.\n",
        "mylist = [1,2,3,4,5,6,7,8,9,10]\n",
        "print(mylist)\n",
        "print(type(mylist))\n",
        "mylist = tuple(mylist)\n",
        "print(mylist)\n",
        "print(type(mylist))"
      ],
      "metadata": {
        "id": "7YE7hvOAJqZF",
        "colab": {
          "base_uri": "https://localhost:8080/"
        },
        "outputId": "a174b912-0329-4e33-dab5-d15ab289fb47"
      },
      "execution_count": 1,
      "outputs": [
        {
          "output_type": "stream",
          "name": "stdout",
          "text": [
            "[1, 2, 3, 4, 5, 6, 7, 8, 9, 10]\n",
            "<class 'list'>\n",
            "(1, 2, 3, 4, 5, 6, 7, 8, 9, 10)\n",
            "<class 'tuple'>\n"
          ]
        }
      ]
    },
    {
      "cell_type": "code",
      "source": [
        "#11. Write a program that checks if a number is positive, negative, or zero?\n",
        "num = int(input(\"Enter a number: \"))\n",
        "if num > 0:\n",
        "    print(\"The number is positive.\")\n",
        "elif num < 0:\n",
        "    print(\"The number is negative.\")\n",
        "else:\n",
        "    print(\"The number is zero.\")"
      ],
      "metadata": {
        "id": "IsgqQq9VJqQu",
        "colab": {
          "base_uri": "https://localhost:8080/"
        },
        "outputId": "03bd8acd-d507-4e58-b273-afdd2ee3eb55"
      },
      "execution_count": 3,
      "outputs": [
        {
          "output_type": "stream",
          "name": "stdout",
          "text": [
            "Enter a number: 25\n",
            "The number is positive.\n"
          ]
        }
      ]
    },
    {
      "cell_type": "code",
      "source": [
        "num = int(input(\"Enter a number: \"))\n",
        "if num > 0:\n",
        "    print(\"The number is positive.\")\n",
        "elif num < 0:\n",
        "    print(\"The number is negative.\")\n",
        "else:\n",
        "    print(\"The number is zero.\")"
      ],
      "metadata": {
        "colab": {
          "base_uri": "https://localhost:8080/"
        },
        "id": "-vG_mO3PoSTi",
        "outputId": "a6c60a92-f63f-405b-edfd-40296befaaa1"
      },
      "execution_count": 4,
      "outputs": [
        {
          "output_type": "stream",
          "name": "stdout",
          "text": [
            "Enter a number: -25\n",
            "The number is negative.\n"
          ]
        }
      ]
    },
    {
      "cell_type": "code",
      "source": [
        "num = int(input(\"Enter a number: \"))\n",
        "if num > 0:\n",
        "    print(\"The number is positive.\")\n",
        "elif num < 0:\n",
        "    print(\"The number is negative.\")\n",
        "else:\n",
        "    print(\"The number is zero.\")"
      ],
      "metadata": {
        "colab": {
          "base_uri": "https://localhost:8080/"
        },
        "id": "cbD4N8QRoSC8",
        "outputId": "7d4433e5-36c1-4131-f336-95ed2ab26761"
      },
      "execution_count": 6,
      "outputs": [
        {
          "output_type": "stream",
          "name": "stdout",
          "text": [
            "Enter a number: 0\n",
            "The number is zero.\n"
          ]
        }
      ]
    },
    {
      "cell_type": "code",
      "source": [
        "#12. Write a for loop to print numbers from 1 to 100\n",
        "for i in range (100):\n",
        "  print(i, end= \" \")"
      ],
      "metadata": {
        "id": "7rypaSwXJqN3",
        "colab": {
          "base_uri": "https://localhost:8080/"
        },
        "outputId": "4a067a47-cd3c-4a70-ff76-25678cd3b7aa"
      },
      "execution_count": null,
      "outputs": [
        {
          "output_type": "stream",
          "name": "stdout",
          "text": [
            "0 1 2 3 4 5 6 7 8 9 10 11 12 13 14 15 16 17 18 19 20 21 22 23 24 25 26 27 28 29 30 31 32 33 34 35 36 37 38 39 40 41 42 43 44 45 46 47 48 49 50 51 52 53 54 55 56 57 58 59 60 61 62 63 64 65 66 67 68 69 70 71 72 73 74 75 76 77 78 79 80 81 82 83 84 85 86 87 88 89 90 91 92 93 94 95 96 97 98 99 "
          ]
        }
      ]
    },
    {
      "cell_type": "code",
      "source": [
        "#13.Write a Python program to find the sum of all even numbers between 1 and 50\n",
        "for i in range(1,51):\n",
        "  if i%2==0:\n",
        "    print(i,end=\" \")\n",
        "\n"
      ],
      "metadata": {
        "id": "Urulxg_xJqLO",
        "colab": {
          "base_uri": "https://localhost:8080/"
        },
        "outputId": "880b47f5-a7e8-415b-c366-f5c7396d407a"
      },
      "execution_count": null,
      "outputs": [
        {
          "output_type": "stream",
          "name": "stdout",
          "text": [
            "2 4 6 8 10 12 14 16 18 20 22 24 26 28 30 32 34 36 38 40 42 44 46 48 50 "
          ]
        }
      ]
    },
    {
      "cell_type": "code",
      "source": [
        "#14.Write a program to reverse a string using a while loop.\n",
        "count=5\n",
        "while count>0:\n",
        "  print(count)\n",
        "  count=count-1\n",
        "\n"
      ],
      "metadata": {
        "id": "ECrkA7AXJqI-",
        "colab": {
          "base_uri": "https://localhost:8080/"
        },
        "outputId": "443701f1-3384-4424-be16-11b629539cb4"
      },
      "execution_count": null,
      "outputs": [
        {
          "output_type": "stream",
          "name": "stdout",
          "text": [
            "5\n",
            "4\n",
            "3\n",
            "2\n",
            "1\n"
          ]
        }
      ]
    }
  ]
}